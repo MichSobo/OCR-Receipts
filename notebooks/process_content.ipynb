{
 "cells": [
  {
   "cell_type": "code",
   "execution_count": 1,
   "id": "d122e75e",
   "metadata": {},
   "outputs": [],
   "source": [
    "import os"
   ]
  },
  {
   "cell_type": "code",
   "execution_count": 2,
   "id": "8c6c104f",
   "metadata": {},
   "outputs": [
    {
     "data": {
      "text/plain": [
       "'C:\\\\Users\\\\Michal\\\\Documents\\\\GitHub\\\\OCR-Receipts'"
      ]
     },
     "execution_count": 2,
     "metadata": {},
     "output_type": "execute_result"
    }
   ],
   "source": [
    "os.chdir('./..')\n",
    "os.getcwd()"
   ]
  },
  {
   "cell_type": "code",
   "execution_count": 3,
   "id": "a157d8ca",
   "metadata": {},
   "outputs": [],
   "source": [
    "from scripts.content_detector import process_content"
   ]
  },
  {
   "cell_type": "markdown",
   "id": "50470255",
   "metadata": {},
   "source": [
    "## Load raw content"
   ]
  },
  {
   "cell_type": "code",
   "execution_count": 4,
   "id": "fff7ec77",
   "metadata": {},
   "outputs": [],
   "source": [
    "content_filepath = './results/Paragon_2022-08-11_081131_300dpi/raw_content.txt'"
   ]
  },
  {
   "cell_type": "code",
   "execution_count": 6,
   "id": "71c81692",
   "metadata": {
    "scrolled": true
   },
   "outputs": [
    {
     "data": {
      "text/plain": [
       "['BIEDRONKA â€śCODZIENNIE NISKIE CENYâ€ť 4884\\n',\n",
       " '02-690 WARSZAWA UL, BOKSERSKA 64\\n',\n",
       " 'JERONIMO MARTINS POLSKA S.A.\\n',\n",
       " '62-025 KOSTRZYN UL. ZNIHNA 5\\n',\n",
       " '\\n',\n",
       " 'NIP 7794011327 wr 485679\\n',\n",
       " 'PARAGON FISKALNY\\n',\n",
       " 'PassataSot thus 708g b { x3,99 3,990\\n',\n",
       " 'Sos Madero 250ql 5 { x3,49 3,498\\n',\n",
       " 'PtNabtyszezFinishd00 = A 1 Â«13,99 13,998\\n',\n",
       " 'Sol Kraft 2kg A 4 x5,95 5,95A\\n',\n",
       " 'SprayProntoZ50al fl { x8,99 8,99A\\n',\n",
       " 'PivoHahoud, 331 A 2 x4,99 9, 98A\\n',\n",
       " 'Napoj Cola Zero (L A 2 x4,99 9,984\\n',\n",
       " 'QPUST -2,40\\n',\n",
       " '7,58A\\n',\n",
       " 'BrefBriltSpring2x42g f 1 x10,99 10,998\\n',\n",
       " 'Gru Kon Luz bj 1,040 x6,95 7,230\\n',\n",
       " 'Huszyna-Skarb 1,5( fi 6 x1,59 9,548\\n',\n",
       " 'Woda Nat Laz 1,51 A 6 xt,89 11,348\\n',\n",
       " 'Cebula ikg opak 0 4 x3,49 3,490\\n',\n",
       " 'Brokut 509g szt iH 1 x4,49 4,490\\n',\n",
       " 'C2Z0SNEK szt B 2 xf, 79 3,580\\n',\n",
       " 'Winograno jas luz D 0,496 x13, 29 6,590\\n',\n",
       " 'OPUST â€ś3,42\\n',\n",
       " '3,470\\n',\n",
       " 'Banan Luz p> 9,762 ÂĄ5,69 4,340\\n',\n",
       " 'Butkaseznsienlnb/g p 6 x0,79 4,740\\n',\n",
       " 'PAPR CZER PL LUZ D 0,784 x12,99 19, 18D\\n',\n",
       " 'OPUST 5,48\\n',\n",
       " '4,700\\n',\n",
       " 'Wafle Mix 100g 0 4 x1,89 1,890\\n',\n",
       " 'Wafle Mix 100g i} 1 Â«1,89 4,890\\n',\n",
       " 'Jog Fruvitabs 400g D 5 x2,28 11,400\\n',\n",
       " 'pap, pon, fas8hun220g B 1 x4,94 4,94)\\n',\n",
       " 'Ser Delikate 150g 0 { x3,76 3,760\\n',\n",
       " 'TAPAS HISZ? 420g ij { 5,99 5,990\\n',\n",
       " 'PizzaProsB430g D 4 x14,99 14,990\\n',\n",
       " 'Pizzalberyjskab00g p { ee 43, 49D\\n',\n",
       " 'Recznik Milla X2 A 4 x3,99 3,99A\\n',\n",
       " 'Pier z seren 400g 0 2 x5, 70 14, -\\n',\n",
       " 'OPUST -1,8\\n',\n",
       " 'Gi st\\n',\n",
       " 'Jog PRIN 180g 0 2 x1,49 2,980\\n',\n",
       " 'DesHiszEToro130q 0 { x6,99 6, 99D\\n',\n",
       " 'SER. HOHOG. HIX. 150g b 4 2,47 2,470\\n',\n",
       " 'SER HOHOG.HIX. 158g p { x2,47 2,470\\n',\n",
       " 'Serek wiejski a 0 4 x4,27 4,270\\n',\n",
       " 'LodNartetKarn1 20x ) 1 x2,56 2,960\\n',\n",
       " 'MarNaPatHorHix450g j { x5,23 5,230\\n',\n",
       " 'OPUST ~4,24\\n',\n",
       " '3,990\\n',\n",
       " 'ChrupPowmeChiot50g i] { x5,99 5,990\\n',\n",
       " 'PrzekaskaSafar i 180g if 4 33,509,510\\n',\n",
       " 'PalusChlebCien250g D { x6,94 6,940\\n',\n",
       " 'Poni dNaszSpizkro400g D 4 x2,18 2,180\\n',\n",
       " 'WarzNaPatHrokr 450g p 1 x3,48 3,480\\n',\n",
       " 'WarzNaPattrokrd50g D { x3,48 3,480\\n',\n",
       " 'GrzankToroRojoi50g D { x4,99 4,990\\n',\n",
       " 'SerGrilTolonis200g 0 4 x6,99 6,990\\n',\n",
       " 'SerTwarChuDel i 250g p Z x2,85 5, 700\\n',\n",
       " 'Ser. TwSmakAks 135g 0 1 x3,80 3,800\\n',\n",
       " 'ChlebCateZiarnaQlg i) { 4,29 4,290\\n',\n",
       " 'Cukinia luz 0 6,480 x4,99 2,400\\n',\n",
       " 'LodyHarlettoHix126 0 4 x2,56 2,560\\n',\n",
       " 'OPUST ~4,56\\n',\n",
       " '4,000\\n',\n",
       " 'SPRZEDAZ OPODATKGMANA A 82,35\\n',\n",
       " 'SPRZEDAZ OPODATKOWANA B 3,49\\n',\n",
       " 'SPRZEDAZ OPODATKOWANA 0 188, 44\\n',\n",
       " 'PTU A 23% 15,40\\n',\n",
       " 'PTU B 8% 0,28\\n',\n",
       " 'PIU D 0% 0,00\\n',\n",
       " 'SUHA PTU 15,66\\n',\n",
       " '\\n',\n",
       " 'SUMA PLN 274,28\\n']"
      ]
     },
     "execution_count": 6,
     "metadata": {},
     "output_type": "execute_result"
    }
   ],
   "source": [
    "with open(content_filepath) as f:\n",
    "    raw_content = f.readlines()\n",
    "\n",
    "raw_content"
   ]
  },
  {
   "cell_type": "code",
   "execution_count": 14,
   "id": "c424573c",
   "metadata": {
    "scrolled": true
   },
   "outputs": [
    {
     "name": "stdout",
     "output_type": "stream",
     "text": [
      "BIEDRONKA “CODZIENNIE NISKIE CENY” 4884\n",
      "02-690 WARSZAWA UL, BOKSERSKA 64\n",
      "JERONIMO MARTINS POLSKA S.A.\n",
      "62-025 KOSTRZYN UL. ZNIHNA 5\n",
      "\n",
      "NIP 7794011327 wr 485679\n",
      "PARAGON FISKALNY\n",
      "PassataSot thus 708g b { x3,99 3,990\n",
      "Sos Madero 250ql 5 { x3,49 3,498\n",
      "PtNabtyszezFinishd00 = A 1 «13,99 13,998\n",
      "Sol Kraft 2kg A 4 x5,95 5,95A\n",
      "SprayProntoZ50al fl { x8,99 8,99A\n",
      "PivoHahoud, 331 A 2 x4,99 9, 98A\n",
      "Napoj Cola Zero (L A 2 x4,99 9,984\n",
      "QPUST -2,40\n",
      "7,58A\n",
      "BrefBriltSpring2x42g f 1 x10,99 10,998\n",
      "Gru Kon Luz bj 1,040 x6,95 7,230\n",
      "Huszyna-Skarb 1,5( fi 6 x1,59 9,548\n",
      "Woda Nat Laz 1,51 A 6 xt,89 11,348\n",
      "Cebula ikg opak 0 4 x3,49 3,490\n",
      "Brokut 509g szt iH 1 x4,49 4,490\n",
      "C2Z0SNEK szt B 2 xf, 79 3,580\n",
      "Winograno jas luz D 0,496 x13, 29 6,590\n",
      "OPUST “3,42\n",
      "3,470\n",
      "Banan Luz p> 9,762 ¥5,69 4,340\n",
      "Butkaseznsienlnb/g p 6 x0,79 4,740\n",
      "PAPR CZER PL LUZ D 0,784 x12,99 19, 18D\n",
      "OPUST 5,48\n",
      "4,700\n",
      "Wafle Mix 100g 0 4 x1,89 1,890\n",
      "Wafle Mix 100g i} 1 «1,89 4,890\n",
      "Jog Fruvitabs 400g D 5 x2,28 11,400b\n",
      "pap, pon, fas8hun220g B 1 x4,94 4,94)\n",
      "Ser Delikate 150g 0 { x3,76 3,760\n",
      "TAPAS HISZ? 420g ij { 5,99 5,990\n",
      "PizzaProsB430g D 4 x14,99 14,990\n",
      "Pizzalberyjskab00g p { ee 43, 49D\n",
      "Recznik Milla X2 A 4 x3,99 3,99A\n",
      "Pier z seren 400g 0 2 x5, 70 14, -\n",
      "OPUST -1,8\n",
      "Gi st\n",
      "Jog PRIN 180g 0 2 x1,49 2,980\n",
      "DesHiszEToro130q 0 { x6,99 6, 99D\n",
      "SER. HOHOG. HIX. 150g b 4 2,47 2,470\n",
      "SER HOHOG.HIX. 158g p { x2,47 2,470\n",
      "Serek wiejski a 0 4 x4,27 4,270\n",
      "LodNartetKarn1 20x ) 1 x2,56 2,960\n",
      "MarNaPatHorHix450g j { x5,23 5,230\n",
      "OPUST ~4,24\n",
      "3,990\n",
      "ChrupPowmeChiot50g i] { x5,99 5,990\n",
      "PrzekaskaSafar i 180g if 4 33,509,510\n",
      "PalusChlebCien250g D { x6,94 6,940\n",
      "Poni dNaszSpizkro400g D 4 x2,18 2,180\n",
      "WarzNaPatHrokr 450g p 1 x3,48 3,480\n",
      "WarzNaPattrokrd50g D { x3,48 3,480\n",
      "GrzankToroRojoi50g D { x4,99 4,990\n",
      "SerGrilTolonis200g 0 4 x6,99 6,990\n",
      "SerTwarChuDel i 250g p Z x2,85 5, 700\n",
      "Ser. TwSmakAks 135g 0 1 x3,80 3,800\n",
      "ChlebCateZiarnaQlg i) { 4,29 4,290\n",
      "Cukinia luz 0 6,480 x4,99 2,400\n",
      "LodyHarlettoHix126 0 4 x2,56 2,560\n",
      "OPUST ~4,56\n",
      "4,000\n",
      "SPRZEDAZ OPODATKGMANA A 82,35\n",
      "SPRZEDAZ OPODATKOWANA B 3,49\n",
      "SPRZEDAZ OPODATKOWANA 0 188, 44\n",
      "PTU A 23% 15,40\n",
      "PTU B 8% 0,28\n",
      "PIU D 0% 0,00\n",
      "SUHA PTU 15,66\n",
      "\n",
      "SUMA PLN 274,28\n",
      "\n"
     ]
    }
   ],
   "source": [
    "with open(content_filepath, encoding='utf-8') as f:\n",
    "    raw_content = f.read()\n",
    "    \n",
    "print(raw_content)"
   ]
  },
  {
   "cell_type": "markdown",
   "id": "fc7cac6e",
   "metadata": {},
   "source": [
    "1. Compare different image quality (maybe resizing needed)\n"
   ]
  },
  {
   "cell_type": "markdown",
   "id": "f4d8b5de",
   "metadata": {},
   "source": [
    "## Process content"
   ]
  },
  {
   "cell_type": "markdown",
   "id": "e85b172e",
   "metadata": {},
   "source": [
    "### Get shop info"
   ]
  },
  {
   "cell_type": "code",
   "execution_count": 8,
   "id": "3e7856f9",
   "metadata": {},
   "outputs": [
    {
     "data": {
      "text/plain": [
       "'Biedronka'"
      ]
     },
     "execution_count": 8,
     "metadata": {},
     "output_type": "execute_result"
    }
   ],
   "source": [
    "# Get shop name\n",
    "shop_name = process_content.get_shop(raw_content)\n",
    "shop_name"
   ]
  },
  {
   "cell_type": "code",
   "execution_count": 15,
   "id": "18be80ac",
   "metadata": {},
   "outputs": [],
   "source": [
    "def get_shop_text(text):\n",
    "    \"\"\"Return text with shop info by splitting the entire text.\"\"\"\n",
    "    # Find 'paragon fiskalny with re and split text'\n",
    "    return text.split('\\nPARAGON FISKALNY\\n')[0]"
   ]
  },
  {
   "cell_type": "code",
   "execution_count": 16,
   "id": "f0af1bef",
   "metadata": {},
   "outputs": [],
   "source": [
    "shop_text = get_shop_text(raw_content)"
   ]
  },
  {
   "cell_type": "code",
   "execution_count": 17,
   "id": "6813abff",
   "metadata": {},
   "outputs": [
    {
     "data": {
      "text/plain": [
       "'BIEDRONKA “CODZIENNIE NISKIE CENY” 4884\\n02-690 WARSZAWA UL, BOKSERSKA 64\\nJERONIMO MARTINS POLSKA S.A.\\n62-025 KOSTRZYN UL. ZNIHNA 5\\n\\nNIP 7794011327 wr 485679'"
      ]
     },
     "execution_count": 17,
     "metadata": {},
     "output_type": "execute_result"
    }
   ],
   "source": [
    "shop_text"
   ]
  },
  {
   "cell_type": "code",
   "execution_count": null,
   "id": "e22090a7",
   "metadata": {},
   "outputs": [],
   "source": [
    "def get_shop_address(text):\n",
    "    "
   ]
  }
 ],
 "metadata": {
  "kernelspec": {
   "display_name": "Python 3 (ipykernel)",
   "language": "python",
   "name": "python3"
  },
  "language_info": {
   "codemirror_mode": {
    "name": "ipython",
    "version": 3
   },
   "file_extension": ".py",
   "mimetype": "text/x-python",
   "name": "python",
   "nbconvert_exporter": "python",
   "pygments_lexer": "ipython3",
   "version": "3.7.8"
  }
 },
 "nbformat": 4,
 "nbformat_minor": 5
}
