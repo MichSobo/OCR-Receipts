{
 "cells": [
  {
   "cell_type": "markdown",
   "id": "095a085c",
   "metadata": {},
   "source": [
    "1. Compare detection with different languages, configs, resolution\n",
    "Get config impact with varying dpi\n",
    "Get language impact with varying dpi\n",
    "Get image enhancement impact with varying dpi, for default and pol language "
   ]
  },
  {
   "cell_type": "code",
   "execution_count": 1,
   "id": "54943a29",
   "metadata": {},
   "outputs": [],
   "source": [
    "import os"
   ]
  },
  {
   "cell_type": "code",
   "execution_count": 2,
   "id": "543691bd",
   "metadata": {},
   "outputs": [
    {
     "data": {
      "text/plain": [
       "'C:\\\\Users\\\\Michal\\\\Documents\\\\GitHub\\\\OCR-Receipts'"
      ]
     },
     "execution_count": 2,
     "metadata": {},
     "output_type": "execute_result"
    }
   ],
   "source": [
    "os.chdir('./..')\n",
    "os.getcwd()"
   ]
  },
  {
   "cell_type": "code",
   "execution_count": 3,
   "id": "f44d3a42",
   "metadata": {},
   "outputs": [],
   "source": [
    "import cv2\n",
    "import pytesseract"
   ]
  },
  {
   "cell_type": "code",
   "execution_count": 4,
   "id": "efdcf5cb",
   "metadata": {},
   "outputs": [],
   "source": [
    "from scripts.content_detector import process_image\n",
    "process_image.LOG = False"
   ]
  },
  {
   "cell_type": "markdown",
   "id": "6bd471ba",
   "metadata": {},
   "source": [
    "## Read raw image"
   ]
  },
  {
   "cell_type": "code",
   "execution_count": 5,
   "id": "8ea3f918",
   "metadata": {},
   "outputs": [
    {
     "data": {
      "text/plain": [
       "['Paragon_2022-08-11_081037_150dpi.jpg',\n",
       " 'Paragon_2022-08-11_081131_300dpi.jpg',\n",
       " 'Paragon_2022-08-11_081332_600dpi.jpg']"
      ]
     },
     "execution_count": 5,
     "metadata": {},
     "output_type": "execute_result"
    }
   ],
   "source": [
    "os.listdir('images/receipts')"
   ]
  },
  {
   "cell_type": "code",
   "execution_count": 6,
   "id": "5da9d86a",
   "metadata": {},
   "outputs": [],
   "source": [
    "raw_img_folderpath = 'images/receipts'"
   ]
  },
  {
   "cell_type": "code",
   "execution_count": 7,
   "id": "3474207c",
   "metadata": {},
   "outputs": [],
   "source": [
    "# Get raw images\n",
    "raw_imgs = dict.fromkeys([150, 300, 600])\n",
    "for dpi, fname in zip(raw_imgs, os.listdir(raw_img_folderpath)):\n",
    "    raw_img_filepath = os.path.join(raw_img_folderpath, fname)\n",
    "    raw_imgs[dpi] = process_image.read_image(raw_img_filepath)"
   ]
  },
  {
   "cell_type": "code",
   "execution_count": null,
   "id": "64e4f368",
   "metadata": {},
   "outputs": [],
   "source": [
    "# Show raw images\n",
    "for dpi, img in raw_imgs.items():\n",
    "    #cv2.imshow(f'{dpi} dpi', img)\n",
    "\n",
    "#cv2.waitKey()"
   ]
  },
  {
   "cell_type": "code",
   "execution_count": 8,
   "id": "f2d899b9",
   "metadata": {},
   "outputs": [],
   "source": [
    "# Get content from raw images\n",
    "raw_contents = {}\n",
    "for dpi, img in raw_imgs.items():\n",
    "    raw_contents[dpi] = pytesseract.image_to_string(cv2.cvtColor(img, cv2.COLOR_BGR2RGB),\n",
    "                                                   config='--psm 4')"
   ]
  },
  {
   "cell_type": "code",
   "execution_count": 9,
   "id": "ce6fca01",
   "metadata": {
    "scrolled": false
   },
   "outputs": [
    {
     "name": "stdout",
     "output_type": "stream",
     "text": [
      "a “\"CODZIENNIE NISKIE CENY” 4884        |BIEDRONKA “CODZIENNIE NISKIE CENY” 4884 |BIEDRONKA “CODZTENNTE NISKIE CENY” dead \n",
      "0 WARSZAWA UL. BOKSERSKA 64             |02-690 WARSZAWA UL, BOKSERSKA 64        |02-690 WARSZAWA UL, BORSERSKA 64        \n",
      "\"FROM MARTINS POLSKA S.A.               |JERONIMO MARTINS POLSKA S.A.            |JERONIMO MARTINS POLSKA 5.A.            \n",
      "62-025 KOSTRZYN UL.2NINNA 5             |62-025 KOSTRZYN UL. ZNIHNA 5            |62-025 KOSTRZYN UL.ZNIMNA 5             \n",
      "                                        |                                        |                                        \n",
      "NIP 7791044327 ar 185679                |NIP 7794011327 wr 485679                |NIP 7794041327 nr 185679                \n",
      "pipecor FISKALNY                        |PARAGON FISKALNY                        |PARAGON FISKALNY                        \n",
      "PassataSot tGus700g i x3,99 3,990       |PassataSot thus 708g b { x3,99 3,990    |PassataSot thus /00g [ 1 x3,99 3,990    \n",
      "Sos Hadero 250al 3 4 x3,49 3,498        |Sos Madero 250ql 5 { x3,49 3,498        |Sos Madera 250nl b i «3,49 3,496        \n",
      "PtNabtyszczFinishdd0 =A 1 «13,99 13,998 |PtNabtyszezFinishd00 = A 1 «13,99 13,998|PlNabtyszezr inisndde A | ¥43,99 43,994 \n",
      "Sol Kraft 2kg f 1 x5,95 5,958           |Sol Kraft 2kg A 4 x5,95 5,95A           |56. Kraft zkg A 1 x5,95 5,958           \n",
      "SprayPronto250at A 1 x8,99 8, 99A       |SprayProntoZ50al fl { x8,99 8,99A       |SprayProntoZ5Unl H | x8,99 8,99A        \n",
      "PiuoHahoud, 331 A 2 x4,99 9, 98A        |PivoHahoud, 331 A 2 x4,99 9, 98A        |PivoMahoul), 331 A 2 x4,99 9,98A        \n",
      "Napaj Cola Zero 4i A 2 x4,99 9,988      |Napoj Cola Zero (L A 2 x4,99 9,984      |Napoj Cola Zero {1 A Z x4,99 9,988      \n",
      "OPUST -2,                               |QPUST -2,40                             |OPUST “2,49                             \n",
      "7,58A                                   |7,58A                                   |, 7, 58A                                \n",
      "BrefBrillSpring2xd2g A 1 10,99 10,998   |BrefBriltSpring2x42g f 1 x10,99 10,998  |BrefBril USpring2x42g A 1 x10,99 18,998 \n",
      "Gru Kon Luz p 1,046 x6,95 7,23          |Gru Kon Luz bj 1,040 x6,95 7,230        |Gru Kon Luz t {,040 6,95 7,230          \n",
      "Huszyna-Skarb 1,51 A 6 «1,59 9,540      |Huszyna-Skarb 1,5( fi 6 x1,59 9,548     |Huszyna-Skarb 1, 5¢ H 7 : 1,59 9,548    \n",
      "Woda Nat LGaz 4,51 A 6 «1,89 14,348     |Woda Nat Laz 1,51 A 6 xt,89 11,348      |Woda Nat LGaz 1,51 i 1,89 14,34         \n",
      "Cebula tkg opak p 1 3,49 3,49           |Cebula ikg opak 0 4 x3,49 3,490         |Cebula ikg opak [ \"3.49 3,450           \n",
      "Brokut 5089 szt 0 i 4,49 4,490          |Brokut 509g szt iH 1 x4,49 4,490        |Brokut 508g szt ( ! #4,49 4,490         \n",
      "CZOSHEK szt 0 x1,79 3,58                |C2Z0SNEK szt B 2 xf, 79 3,580           |CZ0SNEK szt f ? 4,79 3,58)              \n",
      "Winogrono jas luz i) 8, 198. ¥13,29 6,591|Winograno jas luz D 0,496 x13, 29 6,590 |Winogrono jas luz ) U, 496 x3 7) ’ 590  \n",
      "OPUST 3,12                              |OPUST “3,42                             |QPUST A?                                \n",
      "4,47                                    |3,470                                   |, 3 Aj)                                 \n",
      "Banan luz hs 9,762 ¥5,69 4,340          |Banan Luz p> 9,762 ¥5,69 4,340          |Banan luz } > 0,762 ¥5,69 4,340         \n",
      "eaveete ai ts p 40,79 4,74              |Butkaseznsienlnb/g p 6 x0,79 4,740      |Buckasezmstealng/a U 6 x0,79 4, 740     \n",
      "PAPR CER PL LUZ D 0,784 412,99 10,180   |PAPR CZER PL LUZ D 0,784 x12,99 19, 18D |PAPR CZER PL LUZ D 0, 784 47.89 10, 180 \n",
      "OPUST 5,48                              |OPUST 5,48                              |OPUST 548                               \n",
      "4,700                                   |4,700                                   || 4,700                                 \n",
      "Wafle Mix 100g 0 {91,89 1,890           |Wafle Mix 100g 0 4 x1,89 1,890          |Watle Hix 100g [ 1,89 4,890             \n",
      "Wafle Hix 100g i} 1 x1,89 1,890         |Wafle Mix 100g i} 1 «1,89 4,890         |Wafle Mix 100g 0 i x4 1,89 7,890        \n",
      "Jog Fruvitab% 400g D 5 42,28 11,40      |Jog Fruvitabs 400g D 5 x2,28 11,400     |Jog Fruvitaly “400g U ] a, 28 14,400    \n",
      "pap, pon, Fasthun220g 0 1 x4,94 4,94    |pap, pon, fas8hun220g B 1 x4,94 4,94)   |pap, PON, ee ttl U 1 x494 4,940         \n",
      "Ser Delikate 150g { x3,76 3,760         |Ser Delikate 150g 0 { x3,76 3,760       |Ser Delikate 150g [ | x3, 76 3, 780     \n",
      "TAPAS HIS2P 120g ) 1 x5,99 5,99         |TAPAS HISZ? 420g ij { 5,99 5,990        |TAPAS HISZP 420g ( | 5,99 5,990         \n",
      "i ett 0 4 «14,99 14,99                  |PizzaProsB430g D 4 x14,99 14,990        |PizzaProshBasdg [ 1 x14,99 14,990       \n",
      "Pizzalberyjskab00g D 4 13,49 13,49      |Pizzalberyjskab00g p { ee 43, 49D       |Pizzalberyjskab0dg [ ne (49 43,490      \n",
      "Recznik Milla X2 A 4 «3,99 3,998        |Recznik Milla X2 A 4 x3,99 3,99A        |Recznik Milla X2 A 1x3, 99 3,99A        \n",
      "Pier z seren 400g 2 x5,70 11,48         |Pier z seren 400g 0 2 x5, 70 14, -      |Pier z seren 400g U 2 x0, 70 11,400     \n",
      "OPUST A,                                |OPUST -1,8                              |OPUST -4,82                             \n",
      "9,58                                    |Gi st                                   |, 9, 58D                                \n",
      "Jog PRIHO 1809 i 2 «1,49 2,980          |Jog PRIN 180g 0 2 x1,49 2,980           |Jog PRIHD 180g i 2 x1,49 2,980          \n",
      "DesHiszEt Tor 0130g i 1 x6,99 6,99      |DesHiszEToro130q 0 { x6,99 6, 99D       |Deshiszeforo130q [ | x6,99 6, 99)       \n",
      "SER.HOMOG, HIX. 150g p 4 x2,47 2,470    |SER. HOHOG. HIX. 150g b 4 2,47 2,470    |SER. HOHOG. MIX, 1509 [ 1 x2, 4] 2,470  \n",
      "SER.HONOG. HIX. 158g D { 2.47 247       |SER HOHOG.HIX. 158g p { x2,47 2,470     |SER HONOG.HIK, 150g U 1 x2,47 2,470     \n",
      "Serek wiejski 500g i) 4 x4,27 4,27      |Serek wiejski a 0 4 x4,27 4,270         |Serek wiejski 500g i {xd.27 4,270       \n",
      "LodMarietKarnt20nt 0 1 x2,56 2,56       |LodNartetKarn1 20x ) 1 x2,56 2,960      |LodHartetKarm( 20a ) 1 x2,58 2,560      \n",
      "WarNaPatorMix4Sd 4 x5,23 5,23           |MarNaPatHorHix450g j { x5,23 5,230      |bayteat toch atote U { x5,23 5,230      \n",
      "OPUST ~4,24                             |OPUST ~4,24                             |OPU ~{,24                               \n",
      "3,991                                   |3,990                                   |3,990                                   \n",
      "ChrupPonseChio50g i} 4 x5,99 5,99       |ChrupPowmeChiot50g i] { x5,99 5,990     |ChrupPonmeChiolatg U { x5,99 5,980      \n",
      "PrzekaskaSafari 180g 4 43,54 3,510      |PrzekaskaSafar i 180g if 4 33,509,510   |PrzekaskaSafari 160g U { x3,57 3,510    \n",
      "PatusChlebCien250g 1 x,94 6,940         |PalusChlebCien250g D { x6,94 6,940      |PatusChlebCien25 ag 0 1 x6,94 6,940     \n",
      "PonidNaszSpizkro460g =D 4 «2,18 2,181   |Poni dNaszSpizkro400g D 4 x2,18 2,180   |PomidNasz5pi zkrod0dg [ { 42,18 2,180   \n",
      "WarzNaPathirokr 450 1 43,48 3,481       |WarzNaPatHrokr 450g p 1 x3,48 3,480     |WarzNaPathrokr 450g f 1 43,48 3,480     \n",
      "WarzaPatHrokr 450g 3,48 3,48            |WarzNaPattrokrd50g D { x3,48 3,480      |WarzNaPattrokr450q U { x3,48 3,480      \n",
      "GrzankToroRo jo150 1 xd),99 4.99        |GrzankToroRojoi50g D { x4,99 4,990      |GrzankToroRejoi50q 0 1 x4,99 4,99)      \n",
      "SerGrilTolonis200g 0 4 x6,99 6,991      |SerGrilTolonis200g 0 4 x6,99 6,990      |SerGrilTolonis20Gg [ { x6,99 6,990      \n",
      "SerTuarChubel 250g 2 x2,85 5,70         |SerTwarChuDel i 250g p Z x2,85 5, 700   |SerlwarChubeliz5ig [ 2 x2,85 5, 700     \n",
      "Ser. TuSnakAks 135g 0 4 x3,80 3,80      |Ser. TwSmakAks 135g 0 1 x3,80 3,800     |Ser. TusnakAks 135g U { «3,80 3,800     \n",
      "ChlebCateZiarn300 4 «4,29 4,290         |ChlebCateZiarnaQlg i) { 4,29 4,290      |ChlepCatedziarnsblg 0 { x4,29 4,290     \n",
      "Cukinia luz 6,480 x4,99 2,400           |Cukinia luz 0 6,480 x4,99 2,400         |Cukinia luz p 6,480 x4, 99 Z, 400       \n",
      "LodyHarlettoMix120 D 1 x2,58 2,56       |LodyHarlettoHix126 0 4 x2,56 2,560      |Lodular lettollixt 20 D { «2,56 2,560   \n",
      "OPUST =1,58                             |OPUST ~4,56                             |QPUST - 1,56                            \n",
      "4,000                                   |4,000                                   |1, 000                                  \n",
      "SPRZEDAZ OPODATKGHANA A 82,35           |SPRZEDAZ OPODATKGMANA A 82,35           |SPRZEDAZ OPODATKONANG A 62,35           \n",
      "SPRZEDAZ OPODATKONANA B 3,49            |SPRZEDAZ OPODATKOWANA B 3,49            |SPRZEQAZ CRODATKOWANA B 3,49            \n",
      "SPRZEDAZ OPODATKONANA 0 188,44          |SPRZEDAZ OPODATKOWANA 0 188, 44         |SPRZEDAZ OPODATKOWANA 0D 188, 44        \n",
      "PIU A 23% 15,40                         |PTU A 23% 15,40                         |PIU A 23% 15,40                         \n",
      "PTU B 8% 6,26                           |PTU B 8% 0,28                           |PTU B 8% 0,26                           \n",
      "PTU D 0% 0,00                           |PIU D 0% 0,00                           |PTU D 0% 0,00                           \n",
      "SUHA PTU 15,66                          |SUHA PTU 15,66                          |SUMA PTU 15,66                          \n",
      "                                        |                                        |                                        \n",
      "SUMA PLN 274,28                         |SUMA PLN 274,28                         |~SUMA PLN 24, 28                        \n",
      "                                        |                                        |                                        \n"
     ]
    }
   ],
   "source": [
    "# Print the raw content\n",
    "raw_contents_split = {dpi: content.split('\\n') for dpi, content in raw_contents.items()}\n",
    "\n",
    "for line_150, line_300, line_600 in zip(*raw_contents_split.values()):\n",
    "    print(f'{line_150:<40}|{line_300:<40}|{line_600:<40}')"
   ]
  },
  {
   "cell_type": "markdown",
   "id": "cf13a0e1",
   "metadata": {},
   "source": [
    "300 dpi resolution seems to provide the best results."
   ]
  },
  {
   "cell_type": "code",
   "execution_count": 10,
   "id": "df397327",
   "metadata": {},
   "outputs": [],
   "source": [
    "img = raw_imgs[300]"
   ]
  },
  {
   "cell_type": "markdown",
   "id": "cb897523",
   "metadata": {},
   "source": [
    "Now let's compare `image_to_string()` method with different `--psm` arguments."
   ]
  },
  {
   "cell_type": "code",
   "execution_count": 11,
   "id": "85e27a94",
   "metadata": {
    "scrolled": true
   },
   "outputs": [
    {
     "name": "stdout",
     "output_type": "stream",
     "text": [
      "BIEDRONKA “CODZIENNIE NISKIE CENY” 4884           |BIEDRONKA “CODZIENNIE NISKIE CENY” 4884           \n",
      "02-690 WARSZAWA UL, BOKSERSKA 64                  |02-690 WARSZAWA UL. BOKSERSKA 64                  \n",
      "JERONIMO MARTINS POLSKA S.A.                      |JERONIMO MARTINS POLSKA S.A,                      \n",
      "62-025 KOSTRZYN UL. ZNIHNA 5                      |62-025 KOSTRZYN UL. ZNIWNA 5                      \n",
      "NIP 7794011327 wr 485679                          |NIP 7794011327 wr 485679                          \n",
      "PARAGON FISKALNY                                  |PARAGON FISKALNY                                  \n",
      "PassataSot thus 708g b { x3,99 3,990              |PassataSot thus700g B { x3,99 3,990               \n",
      "Sos Madero 250ql 5 { x3,49 3,498                  |Sos Madero 250ql 5 { x3,49 3,498                  \n",
      "PtNabtyszezFinishd00 = A 1 «13,99 13,998          |PtNabtyszezFinishd00 = A 1 x13,99 13,998          \n",
      "Sol Kraft 2kg A 4 x5,95 5,95A                     |Sol Kraft 2kg A 4 x5,95 5,95A                     \n",
      "SprayProntoZ50al fl { x8,99 8,99A                 |SprayProntoZ50al fl { x8,99 8,99A                 \n",
      "PivoHahoud, 331 A 2 x4,99 9, 98A                  |PivoHahoud, 331 A 2 x4,99 9, 98A                  \n",
      "Napoj Cola Zero (L A 2 x4,99 9,984                |Napoj Cola Zero (L A 2 x4,99 9,984                \n",
      "QPUST -2,40                                       |QPUST -2,40                                       \n",
      "7,58A                                             |7,58A                                             \n",
      "BrefBriltSpring2x42g f 1 x10,99 10,998            |BrefBriltSpring2x42g f 1 x10,99 10,998            \n",
      "Gru Kon Luz bj 1,040 x6,95 7,230                  |Gru Kon Luz bj 1,040 x6,95 7,230                  \n",
      "Huszyna-Skarb 1,5( fi 6 x1,59 9,548               |Huszyna-Skarb 1,5( fi 6§ x1,59 9,540              \n",
      "Woda Nat Laz 1,51 A 6 xt,89 11,348                |Woda Nat Laz 1,51 A 6 «1,89 11,34A                \n",
      "Cebula ikg opak 0 4 x3,49 3,490                   |Cebula ikg opak 0 4 x3,49 3,490                   \n",
      "Brokut 509g szt iH 1 x4,49 4,490                  |Brokut 509g szt iH 1 x4,49 4,490                  \n",
      "C2Z0SNEK szt B 2 xf, 79 3,580                     |C2Z0SNEK szt B 2 x1,79 3,58)                      \n",
      "Winograno jas luz D 0,496 x13, 29 6,590           |Winograno jas luz D 0,496 x13, 29 6,590           \n",
      "OPUST “3,42                                       |OPUST “3,42                                       \n",
      "3,470                                             |3,470                                             \n",
      "Banan Luz p> 9,762 ¥5,69 4,340                    |Banan Luz p> 9,762 ¥5,69 4,340                    \n",
      "Butkaseznsienlnb/g p 6 x0,79 4,740                |Butkaseznsienlnb/g p 6 x0,79 4,740                \n",
      "PAPR CZER PL LUZ D 0,784 x12,99 19, 18D           |PAPR CZER PL LUZ D 0,784 x12,99 19, 18D           \n",
      "OPUST 5,48                                        |OPUST 5,48                                        \n",
      "4,700                                             |4,700                                             \n",
      "Wafle Mix 100g 0 4 x1,89 1,890                    |Wafle Mix 100g 0 4 x1,89 1,890                    \n",
      "Wafle Mix 100g i} 1 «1,89 4,890                   |Wafle Mix 100g i} 1 «1,89 4,890                   \n",
      "Jog Fruvitabs 400g D 5 x2,28 11,400               |Jog Fruvitabs 400g D 5 x2,28 11,400               \n",
      "pap, pon, fas8hun220g B 1 x4,94 4,94)             |pap, pon, fas8hun220g B 1 x4,94 4,94)             \n",
      "Ser Delikate 150g 0 { x3,76 3,760                 |Ser Delikate 150g 0 { x3,76 3,760                 \n",
      "TAPAS HISZ? 420g ij { 5,99 5,990                  |TAPAS HISZ? 420g ij { 5,99 5,990                  \n",
      "PizzaProsB430g D 4 x14,99 14,990                  |PizzaProsB430g D 4 x14,99 14,990                  \n",
      "Pizzalberyjskab00g p { ee 43, 49D                 |Pizzalberyjskab00g p 1 «13,49 13,490              \n",
      "Recznik Milla X2 A 4 x3,99 3,99A                  |Recznik Milla X2 A 4 x3,99 3,99A                  \n",
      "Pier z seren 400g 0 2 x5, 70 14, -                |Pier z seren 400g 0 2 x5, 70 11,400               \n",
      "OPUST -1,8                                        |OPUST -1,82                                       \n",
      "Gi st                                             |9,580                                             \n",
      "Jog PRIN 180g 0 2 x1,49 2,980                     |Jog PRIN 180g 0 2 x1,49 2,980                     \n",
      "DesHiszEToro130q 0 { x6,99 6, 99D                 |DesHiszEToro130q 0 4 x6,99 6,99D                  \n",
      "SER. HOHOG. HIX. 150g b 4 2,47 2,470              |SER. HOHOG. HIX. 150g b 4 2,47 2,470              \n",
      "SER HOHOG.HIX. 158g p { x2,47 2,470               |SER HOHOG.HIX. 158g p { x2,47 2,470               \n",
      "Serek wiejski a 0 4 x4,27 4,270                   |Serek wiejski a 0 4 x4,27 4,270                   \n",
      "LodNartetKarn1 20x ) 1 x2,56 2,960                |LodNartetKarn1 20x ) 1 x2,56 2,960                \n",
      "MarNaPatHorHix450g j { x5,23 5,230                |MarNaPatHorHix450g j { x5,23 5,230                \n",
      "OPUST ~4,24                                       |OPUST ~4,24                                       \n",
      "3,990                                             |3,990                                             \n",
      "ChrupPowmeChiot50g i] { x5,99 5,990               |ChrupPowmeChiot50g i] { x5,99 5,990               \n",
      "PrzekaskaSafar i 180g if 4 33,509,510             |PrzekaskaSafar i 180g if 4 33,509,510             \n",
      "PalusChlebCien250g D { x6,94 6,940                |PalusChlebCien250g D { x6,94 6,940                \n",
      "Poni dNaszSpizkro400g D 4 x2,18 2,180             |Poni dNaszSpizkro400g D 4 x2,18 2,180             \n",
      "WarzNaPatHrokr 450g p 1 x3,48 3,480               |WarzNaPatHrokr 450g p 1 x3,48 3,480               \n",
      "WarzNaPattrokrd50g D { x3,48 3,480                |WarzNaPattrokrd50g D { x3,48 3,480                \n",
      "GrzankToroRojoi50g D { x4,99 4,990                |GrzankToroRojoi50g D { x4,99 4,990                \n",
      "SerGrilTolonis200g 0 4 x6,99 6,990                |SerGrilTolonis200g 0 4 x6,99 6,990                \n",
      "SerTwarChuDel i 250g p Z x2,85 5, 700             |SerTwarChuDel i 250g p Z x2,85 5, 700             \n",
      "Ser. TwSmakAks 135g 0 1 x3,80 3,800               |Ser. TwSmakAks 135g 0 1 x3,80 3,800               \n",
      "ChlebCateZiarnaQlg i) { 4,29 4,290                |ChlebCateZiarnaQlg i) { 4,29 4,290                \n",
      "Cukinia luz 0 6,480 x4,99 2,400                   |Cukinia luz 0 6,480 x4,99 2,400                   \n",
      "LodyHarlettoHix126 0 4 x2,56 2,560                |LodyHarlettoHix126 0 4 x2,56 2,560                \n",
      "OPUST ~4,56                                       |OPUST ~4,56                                       \n",
      "4,000                                             |4,000                                             \n",
      "SPRZEDAZ OPODATKGMANA A 82,35                     |SPRZEDAZ OPODATKGMANA A 82,35                     \n",
      "SPRZEDAZ OPODATKOWANA B 3,49                      |SPRZEDAZ OPODATKOWANA B 3,49                      \n",
      "SPRZEDAZ OPODATKOWANA 0 188, 44                   |SPRZEDAZ OPODATKOWANA 0 188, 44                   \n",
      "PTU A 23% 15,40                                   |PTU A 23% 15,40                                   \n",
      "PTU B 8% 0,28                                     |PTU B 8% 0,28                                     \n",
      "PIU D 0% 0,00                                     |PIU D 0% 0,00                                     \n",
      "SUHA PTU 15,66                                    |SUHA PTU 15,66                                    \n",
      "SUMA PLN 274,28                                   |SUMA PLN 274,28                                   \n"
     ]
    }
   ],
   "source": [
    "# Get content from 300 dpi image using `--psm 4` and `--psm 6`\n",
    "psms = ['--psm 4', '--psm 6']\n",
    "raw_contents_300 = {\n",
    "    psm: pytesseract.image_to_string(cv2.cvtColor(img, cv2.COLOR_BGR2RGB), config=psm)\n",
    "    for psm in psms\n",
    "}\n",
    "\n",
    "# Compare the content, omitting empty lines\n",
    "raw_contents_300_split = {psm: content.split('\\n') for psm, content in raw_contents_300.items()}\n",
    "raw_contents_300_split['--psm 4'] = list(filter(lambda x: x != '', raw_contents_300_split['--psm 4']))\n",
    "raw_contents_300_split['--psm 6'] = list(filter(lambda x: x != '', raw_contents_300_split['--psm 6']))\n",
    "for line_psm4, line_psm6 in zip(*raw_contents_300_split.values()):\n",
    "    print(f'{line_psm4:<50}|{line_psm6:<50}')"
   ]
  },
  {
   "cell_type": "code",
   "execution_count": 12,
   "id": "acffff20",
   "metadata": {},
   "outputs": [
    {
     "name": "stdout",
     "output_type": "stream",
     "text": [
      "02-690 WARSZAWA UL, BOKSERSKA 64                  |02-690 WARSZAWA UL. BOKSERSKA 64                  \n",
      "JERONIMO MARTINS POLSKA S.A.                      |JERONIMO MARTINS POLSKA S.A,                      \n",
      "62-025 KOSTRZYN UL. ZNIHNA 5                      |62-025 KOSTRZYN UL. ZNIWNA 5                      \n",
      "PassataSot thus 708g b { x3,99 3,990              |PassataSot thus700g B { x3,99 3,990               \n",
      "PtNabtyszezFinishd00 = A 1 «13,99 13,998          |PtNabtyszezFinishd00 = A 1 x13,99 13,998          \n",
      "Huszyna-Skarb 1,5( fi 6 x1,59 9,548               |Huszyna-Skarb 1,5( fi 6§ x1,59 9,540              \n",
      "Woda Nat Laz 1,51 A 6 xt,89 11,348                |Woda Nat Laz 1,51 A 6 «1,89 11,34A                \n",
      "C2Z0SNEK szt B 2 xf, 79 3,580                     |C2Z0SNEK szt B 2 x1,79 3,58)                      \n",
      "Pizzalberyjskab00g p { ee 43, 49D                 |Pizzalberyjskab00g p 1 «13,49 13,490              \n",
      "Pier z seren 400g 0 2 x5, 70 14, -                |Pier z seren 400g 0 2 x5, 70 11,400               \n",
      "OPUST -1,8                                        |OPUST -1,82                                       \n",
      "Gi st                                             |9,580                                             \n",
      "DesHiszEToro130q 0 { x6,99 6, 99D                 |DesHiszEToro130q 0 4 x6,99 6,99D                  \n"
     ]
    }
   ],
   "source": [
    "# Get all items that are not equal\n",
    "diff = []\n",
    "for line_psm4, line_psm6 in zip(*raw_contents_300_split.values()):\n",
    "    if line_psm4 != line_psm6:\n",
    "        diff.append((line_psm4, line_psm6))\n",
    "        print(f'{line_psm4:<50}|{line_psm6:<50}')"
   ]
  },
  {
   "cell_type": "markdown",
   "id": "b43e227d",
   "metadata": {},
   "source": [
    "Setting `--psm 6` seems to provide better results."
   ]
  },
  {
   "cell_type": "markdown",
   "id": "4530b144",
   "metadata": {},
   "source": [
    "## Prepare image\n",
    "Adjust the image to enhance content recognition."
   ]
  },
  {
   "cell_type": "code",
   "execution_count": 13,
   "id": "c419b8dc",
   "metadata": {},
   "outputs": [],
   "source": [
    "# Get adjusted images based on the raw image\n",
    "img = raw_imgs[150]\n",
    "gray = cv2.cvtColor(img, cv2.COLOR_BGR2GRAY)\n",
    "blur = cv2.GaussianBlur(gray, (3,3), 0)\n",
    "tresh_from_img = cv2.threshold(gray, 0, 255, cv2.THRESH_BINARY_INV + cv2.THRESH_OTSU)[1]\n",
    "tresh_from_blur = cv2.threshold(blur, 0, 255, cv2.THRESH_BINARY_INV + cv2.THRESH_OTSU)[1]"
   ]
  },
  {
   "cell_type": "code",
   "execution_count": null,
   "id": "9b43cee3",
   "metadata": {},
   "outputs": [],
   "source": [
    "cv2.imshow('original', img)\n",
    "cv2.imshow('gray', gray)\n",
    "cv2.imshow('blur', blur)\n",
    "cv2.imshow('tresh from img', tresh_from_img)\n",
    "cv2.imshow('tresh from blur', tresh_from_blur)\n",
    "cv2.waitKey()"
   ]
  },
  {
   "cell_type": "code",
   "execution_count": 14,
   "id": "03d46668",
   "metadata": {},
   "outputs": [],
   "source": [
    "kernel = cv2.getStructuringElement(cv2.MORPH_RECT, (3,3))\n",
    "\n",
    "opening_from_img = cv2.morphologyEx(tresh_from_img, cv2.MORPH_OPEN, kernel, iterations=1)\n",
    "invert_from_img = 255 - opening_from_img\n",
    "\n",
    "opening_from_blur = cv2.morphologyEx(tresh_from_blur, cv2.MORPH_OPEN, kernel, iterations=1)\n",
    "invert_from_blur = 255 - opening_from_blur"
   ]
  },
  {
   "cell_type": "code",
   "execution_count": null,
   "id": "1e77e13e",
   "metadata": {},
   "outputs": [],
   "source": [
    "cv2.imshow('opening from img', opening_from_img)\n",
    "cv2.imshow('opening from blur', opening_from_blur)\n",
    "cv2.imshow('invert from img', invert_from_img)\n",
    "cv2.imshow('invert from blur', invert_from_blur)\n",
    "cv2.waitKey()"
   ]
  },
  {
   "cell_type": "code",
   "execution_count": 15,
   "id": "c758721e",
   "metadata": {},
   "outputs": [
    {
     "data": {
      "text/plain": [
       "-1"
      ]
     },
     "execution_count": 15,
     "metadata": {},
     "output_type": "execute_result"
    }
   ],
   "source": [
    "invert_my = 255 - tresh_from_blur\n",
    "cv2.imshow('invert my', invert_my)\n",
    "cv2.waitKey()"
   ]
  },
  {
   "cell_type": "code",
   "execution_count": 16,
   "id": "13bc6991",
   "metadata": {},
   "outputs": [],
   "source": [
    "# Get content from adjusted image\n",
    "raw_content_proc = pytesseract.image_to_string(cv2.cvtColor(invert_my, cv2.COLOR_BGR2RGB),\n",
    "                                               config='--psm 4')\n",
    "raw_content_proc_split = raw_content_proc.split('\\n')\n",
    "raw_content_proc_split = list(filter(lambda x: x != '', raw_content_proc_split))"
   ]
  },
  {
   "cell_type": "code",
   "execution_count": 17,
   "id": "05041e8c",
   "metadata": {},
   "outputs": [
    {
     "name": "stdout",
     "output_type": "stream",
     "text": [
      "BIEDRONKA “CODZIENNIE NISKIE CENY” 4884           |ae COREE RISKIE CENY” 4884                        \n",
      "02-690 WARSZAWA UL, BOKSERSKA 64                  |02-698 WARSZAWA UL. BOKSERSKA 61                  \n",
      "JERONIMO MARTINS POLSKA S.A.                      |JERONING HARTINS POLSKA S.A.                      \n",
      "62-025 KOSTRZYN UL. ZNIHNA 5                      |62-025 KOSTRZYN Uk. ZNIWNA 5                      \n",
      "NIP 7794011327 wr 485679                          |HIP 779041327 wt: 185679                          \n",
      "PassataSot thus 708g b { x3,99 3,990              |PassataSot tGus706g D { x3,99 3,990               \n",
      "Sos Madero 250ql 5 { x3,49 3,498                  |Sos Haderc 258al_ B 1 x3,49 3,498                 \n",
      "PtNabtyszezFinishd00 = A 1 «13,99 13,998          |PtWabtyszc2FinisndgO A 4 «13,99 13,990            \n",
      "Sol Kraft 2kg A 4 x5,95 5,95A                     |Sol Kraft ug i] 1 x5,95 5,958                     \n",
      "SprayProntoZ50al fl { x8,99 8,99A                 |SprayPronto230al A { x8,99 8,998                  \n",
      "PivoHahoud, 331 A 2 x4,99 9, 98A                  |Piuollahoud, 331 a 2 x4,99 9, 98A                 \n",
      "Napoj Cola Zero (L A 2 x4,99 9,984                |Napoj Cola Zero {i a 2 x4,99 3, 98A               \n",
      "QPUST -2,40                                       |OPUST 2,4                                         \n",
      "7,58A                                             |7,588                                             \n",
      "BrefBriltSpring2x42g f 1 x10,99 10,998            |BrefBriilSpring2x42g = A 4 10,99 16,998           \n",
      "Gru Kon Luz bj 1,040 x6,95 7,230                  |Gru Kon Luz i] 4,040 x6,95 7,230                  \n",
      "Huszyna-Skarb 1,5( fi 6 x1,59 9,548               |Huszyna-Skarb 1,5t A 6 xt,59 9,548                \n",
      "Woda Nat Laz 1,51 A 6 xt,89 11,348                |Woda Nat Léaz 1,5t A 6 «1,89 14,340               \n",
      "Cebula ikg opak 0 4 x3,49 3,490                   |Cebula tkg opak D 1 x3,49 3,490                   \n",
      "Brokut 509g szt iH 1 x4,49 4,490                  |Brokut 5009 szt 0 1 24,49 4,490                   \n",
      "C2Z0SNEK szt B 2 xf, 79 3,580                     |CZOSHEK szt 0 2 x4,79 3,580                       \n",
      "Winograno jas luz D 0,496 x13, 29 6,590           |Winogrono jas tuz 0 0,496 13,29 6,590             \n",
      "OPUST “3,42                                       |OPUST “312                                        \n",
      "3,470                                             |4,470                                             \n",
      "Banan Luz p> 9,762 ¥5,69 4,340                    |Banan luz Q- 9,762 ¥8,89 4,040                    \n",
      "Butkaseznsienlnb/g p 6 x0,79 4,740                |ButkaseznsienlnG/g i 6 «6,79 4,740                \n",
      "PAPR CZER PL LUZ D 0,784 x12,99 19, 18D           |PAPR CZER PL LUZ i) 0,784 412,99 10, B10          \n",
      "OPUST 5,48                                        |ie                                                \n",
      "4,700                                             |Nafle Hix 106g 0 { 41,89 1,890                    \n",
      "Wafle Mix 100g 0 4 x1,89 1,890                    |Wafle Hix 1009 B 1 x1,89 1,890                    \n",
      "Wafle Mix 100g i} 1 «1,89 4,890                   |Jog Fruvitads be QD 5 42.28 11,49)                \n",
      "Jog Fruvitabs 400g D 5 x2,28 11,400               |pap, pon, Fas8hun220g 0 4 xd.94 4,940             \n",
      "pap, pon, fas8hun220g B 1 x4,94 4,94)             |Ser Delikate 150g 0 { x9,76 3,760                 \n",
      "Ser Delikate 150g 0 { x3,76 3,760                 |TAPAS HISZP 120g 0 1 x5,99 5,990                  \n",
      "TAPAS HISZ? 420g ij { 5,99 5,990                  |PlzzaFrosibAiOg 0 4 «44,99 14,99)                 \n",
      "PizzaProsB430g D 4 x14,99 14,990                  |Pizza ber yfskal td D 1 «13,49 13,490             \n",
      "Pizzalberyjskab00g p { ee 43, 49D                 |Recznik Milla x2 A 1 x3,99 9,998                  \n",
      "Recznik Milla X2 A 4 x3,99 3,99A                  |Pier z seren 400g i) 2 x5.70 11,400               \n",
      "Pier z seren 400g 0 2 x5, 70 14, -                |OPUST -1,82                                       \n",
      "OPUST -1,8                                        |9,580                                             \n",
      "Gi st                                             |Jog PRIHO tag D é x1,49 2,980                     \n",
      "Jog PRIN 180g 0 2 x1,49 2,980                     |Distt ote D 1 x6,99 6,990                         \n",
      "DesHiszEToro130q 0 { x6,99 6, 99D                 |SER. HOMOG 9 B 4 2,47 2,470                       \n",
      "SER. HOHOG. HIX. 150g b 4 2,47 2,470              |SER. HOMOG. A 1509 0 1 42,47 2,410                \n",
      "SER HOHOG.HIX. 158g p { x2,47 2,470               |Serek ule jskl bi! i) { 24,27 4, en               \n",
      "Serek wiejski a 0 4 x4,27 4,270                   |LodWarietKaral20s i) 1 x2,56 2,56                 \n",
      "LodNartetKarn1 20x ) 1 x2,56 2,960                |WarNaPatHor Hix450y 0 1 x5,23 5, a                \n",
      "MarNaPatHorHix450g j { x5,23 5,230                |OPUST -4,24                                       \n",
      "OPUST ~4,24                                       |3,990                                             \n",
      "3,990                                             |fhcupPonseChio tS i) 4 x5,99 5,990                \n",
      "ChrupPowmeChiot50g i] { x5,99 5,990               |PrzekgskaSafar i 180g 0 143.51 3,50               \n",
      "PrzekaskaSafar i 180g if 4 33,509,510             |PatusthlebC ien2509 0 1 «6,94 6,940               \n",
      "PalusChlebCien250g D { x6,94 6,940                |PonidNas2Spizkrod60g 0 42,18 2,180                \n",
      "Poni dNaszSpizkro400g D 4 x2,18 2,180             |WarzNaPatrokr 4509 0 4 43,48 3,480                \n",
      "WarzNaPatHrokr 450g p 1 x3,48 3,480               |WarzHaPatHrokr 458g p { x3,48 3,480               \n",
      "WarzNaPattrokrd50g D { x3,48 3,480                |GrzankToroRojot50g 0 1 4,99 4,990                 \n",
      "GrzankToroRojoi50g D { x4,99 4,990                |SerGri{Tolonis200g 0 4 x6,99 6,990                \n",
      "SerGrilTolonis200g 0 4 x6,99 6,990                |Ser TwarChubet i 250g 0 2 x2,85 5,780             \n",
      "SerTwarChuDel i 250g p Z x2,85 5, 700             |Ser .TuSaakiks 1359 0 1 x3,80 3,800               \n",
      "Ser. TwSmakAks 135g 0 1 x3,80 3,800               |ChlebCateZiarn300g 0 1 4,29 4,290                 \n",
      "ChlebCateZiarnaQlg i) { 4,29 4,290                |Cukinia tuz D 0,480 4,99 2,400                    \n",
      "Cukinia luz 0 6,480 x4,99 2,400                   |Logg let tobixt20 D 1x 560                        \n",
      "LodyHarlettoHix126 0 4 x2,56 2,560                |LST -41,56                                        \n",
      "OPUST ~4,56                                       |4,000                                             \n",
      "4,000                                             |SPRZEDAZ CPODATKOWANA A 82,35                     \n",
      "SPRZEDAZ OPODATKGMANA A 82,35                     |SPRZEDAZ CPODATKOWANA 8 3,49                      \n",
      "SPRZEDAZ OPODATKOWANA B 3,49                      |SPAZEDA2 OPODATKOWANA B 188,44                    \n",
      "SPRZEDAZ OPODATKOWANA 0 188, 44                   |PTY A 23% 15.48                                   \n",
      "PTU A 23% 15,40                                   |PTU B Bx 6                                        \n",
      "PTU B 8% 0,28                                     |PTU O Ox 0,00                                     \n",
      "PIU D 0% 0,00                                     |SUMA PTU 15,66                                    \n",
      "SUHA PTU 15,66                                    |SUMA PLN 214,28                                   \n"
     ]
    }
   ],
   "source": [
    "# Compare it with the original\n",
    "for line_ori, line_proc in zip(raw_contents_300_split['--psm 4'], raw_content_proc_split):\n",
    "    if line_ori != line_proc:\n",
    "        diff.append((line_ori, line_proc))\n",
    "        print(f'{line_ori:<50}|{line_proc:<50}')"
   ]
  },
  {
   "cell_type": "markdown",
   "id": "d70d076d",
   "metadata": {},
   "source": [
    "## Get content"
   ]
  },
  {
   "cell_type": "markdown",
   "id": "551de85b",
   "metadata": {},
   "source": [
    "Check the best image resolution for content extraction."
   ]
  }
 ],
 "metadata": {
  "kernelspec": {
   "display_name": "Python 3 (ipykernel)",
   "language": "python",
   "name": "python3"
  },
  "language_info": {
   "codemirror_mode": {
    "name": "ipython",
    "version": 3
   },
   "file_extension": ".py",
   "mimetype": "text/x-python",
   "name": "python",
   "nbconvert_exporter": "python",
   "pygments_lexer": "ipython3",
   "version": "3.7.8"
  }
 },
 "nbformat": 4,
 "nbformat_minor": 5
}
