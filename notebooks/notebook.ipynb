{
 "cells": [
  {
   "cell_type": "code",
   "execution_count": 1,
   "id": "94b06049",
   "metadata": {},
   "outputs": [],
   "source": [
    "import os\n",
    "import re\n",
    "from pathlib import Path\n",
    "\n",
    "import cv2 as cv\n",
    "import imutils\n",
    "import pytesseract\n",
    "from imutils.perspective import four_point_transform"
   ]
  },
  {
   "cell_type": "code",
   "execution_count": 4,
   "id": "b89a7bf3",
   "metadata": {},
   "outputs": [],
   "source": [
    "# Set paths\n",
    "raw_img_folder = Path('images/receipts')\n",
    "proc_img_folder = Path('images/receipts_processed')\n",
    "\n",
    "test_img_file = 'receipt.jpg'\n",
    "test_img_file = 'test1.jpg'\n",
    "test_img_filepath = raw_img_folder / test_img_file"
   ]
  },
  {
   "cell_type": "code",
   "execution_count": 5,
   "id": "d9fd0c5f",
   "metadata": {},
   "outputs": [],
   "source": [
    "# Get image\n",
    "raw_img = cv.imread(str(test_img_filepath))\n",
    "img = raw_img.copy()\n",
    "\n",
    "# Resize maintaining aspect ratio\n",
    "img = imutils.resize(img, width=500)\n",
    "ratio = raw_img.shape[1] / float(img.shape[1])"
   ]
  },
  {
   "cell_type": "markdown",
   "id": "23d53db0",
   "metadata": {},
   "source": [
    "## Image processing"
   ]
  },
  {
   "cell_type": "markdown",
   "id": "426be934",
   "metadata": {},
   "source": [
    "### Adjusting image"
   ]
  },
  {
   "cell_type": "code",
   "execution_count": 6,
   "id": "6508bb69",
   "metadata": {},
   "outputs": [],
   "source": [
    "# Adjust img colors\n",
    "grayed = cv.cvtColor(\n",
    "    img, cv.COLOR_BGR2GRAY)  # convert to grayscale\n",
    "blurred = cv.GaussianBlur(\n",
    "    grayed, (5, 5, ), 0)     # blur using Gaussian kernel\n",
    "edged = cv.Canny(\n",
    "    blurred, 75, 200)        # apply edge detection"
   ]
  },
  {
   "cell_type": "code",
   "execution_count": 7,
   "id": "659a3274",
   "metadata": {},
   "outputs": [],
   "source": [
    "# Show img\n",
    "cv.imshow('Input', img)\n",
    "#cv.imshow('Grayed', grayed)\n",
    "#cv.imshow('Blurred', blurred)\n",
    "cv.imshow('Edged', edged)\n",
    "cv.waitKey(0)\n",
    "cv.destroyAllWindows()"
   ]
  },
  {
   "cell_type": "markdown",
   "id": "557eb92f",
   "metadata": {},
   "source": [
    "###  Detecting contours"
   ]
  },
  {
   "cell_type": "code",
   "execution_count": 8,
   "id": "36dba09a",
   "metadata": {},
   "outputs": [],
   "source": [
    "# Find contours in the edge map\n",
    "contours = cv.findContours(\n",
    "    edged.copy(), cv.RETR_EXTERNAL, cv.CHAIN_APPROX_SIMPLE\n",
    ")\n",
    "contours = imutils.grab_contours(contours)\n",
    "\n",
    "# Sort contours according to their area size\n",
    "contours = sorted(contours, key=cv.contourArea, reverse=True)"
   ]
  },
  {
   "cell_type": "markdown",
   "id": "1348a6ec",
   "metadata": {},
   "source": [
    "Sorting is an important step since it is assumed that the largest contour in the input image with a four corners is the receipt.\n",
    "\n",
    "Now we have to check if a contour with four vertices was found."
   ]
  },
  {
   "cell_type": "code",
   "execution_count": 9,
   "id": "fda66d80",
   "metadata": {},
   "outputs": [],
   "source": [
    "# Initialize a variable to store the contour\n",
    "receipt_contour = None\n",
    "\n",
    "for c in contours:\n",
    "    # Approximate the contour by reducing the number of points\n",
    "    peri = cv.arcLength(c, True)\n",
    "    approx = cv.approxPolyDP(c, 0.02 * peri, True)\n",
    "    \n",
    "    # If the approximated contour has 4 points...\n",
    "    if len(approx) == 4:\n",
    "        # ...we can assume it's the receipt's outline\n",
    "        receipt_contour = approx\n",
    "        break\n",
    "\n",
    "if receipt_contour is None:\n",
    "    raise Exception('Could not find proper receipt contours. '\n",
    "                    'Review the input image and try again.')"
   ]
  },
  {
   "cell_type": "code",
   "execution_count": null,
   "id": "5dee11ff",
   "metadata": {},
   "outputs": [],
   "source": [
    "# Initialize a variable to store the contour\n",
    "receipt_contour = None\n",
    "max_contour_area = 0\n",
    "\n",
    "for c in contours:\n",
    "    # Approximate the contour by reducing the number of points\n",
    "    peri = cv.arcLength(c, False)\n",
    "    approx = cv.approxPolyDP(c, 0.02 * peri, True)\n",
    "    \n",
    "    # If the approximated contour has 4 points...\n",
    "    if len(approx) == 4:\n",
    "        # ...we can assume it's the receipt's outline\n",
    "        if cv.contourArea(approx) > max_contour_area:\n",
    "            max_contour_area = cv.contourArea(approx)\n",
    "            receipt_contour = approx\n",
    "\n",
    "if receipt_contour is None:\n",
    "    raise Exception('Could not find proper receipt contours. '\n",
    "                    'Review the input image and try again.')\n"
   ]
  },
  {
   "cell_type": "code",
   "execution_count": 10,
   "id": "a0c9b96c",
   "metadata": {},
   "outputs": [
    {
     "data": {
      "text/plain": [
       "array([[[388,   6]],\n",
       "\n",
       "       [[ 18,  24]],\n",
       "\n",
       "       [[ 65, 640]],\n",
       "\n",
       "       [[482, 579]]], dtype=int32)"
      ]
     },
     "execution_count": 10,
     "metadata": {},
     "output_type": "execute_result"
    }
   ],
   "source": [
    "receipt_contour"
   ]
  },
  {
   "cell_type": "code",
   "execution_count": 11,
   "id": "7da26d14",
   "metadata": {},
   "outputs": [
    {
     "data": {
      "text/plain": [
       "-1"
      ]
     },
     "execution_count": 11,
     "metadata": {},
     "output_type": "execute_result"
    }
   ],
   "source": [
    "output = img.copy()\n",
    "cv.drawContours(output, [receipt_contour], -1, (0, 255, 0), 2)\n",
    "cv.imshow('Receipt outline', output)\n",
    "cv.waitKey(0)"
   ]
  },
  {
   "cell_type": "markdown",
   "id": "1ba5c423",
   "metadata": {},
   "source": [
    "### Applying perspective transform"
   ]
  },
  {
   "cell_type": "markdown",
   "id": "acd16217",
   "metadata": {},
   "source": [
    "If the receipt contour is found, the perspective transform can be applied to the image."
   ]
  },
  {
   "cell_type": "code",
   "execution_count": null,
   "id": "39afc2e5",
   "metadata": {},
   "outputs": [],
   "source": [
    "# Apply a four-point perspective transform to the original image\n",
    "receipt = four_point_transform(raw_img, receipt_contour.reshape(4, 2) * ratio)\n",
    "\n",
    "# Show transformed image\n",
    "#receipt = cv.resize(receipt, (960, 540)) \n",
    "cv.imshow('Receipt transform', imutils.resize(receipt, width=500))\n",
    "cv.waitKey(0)"
   ]
  },
  {
   "cell_type": "code",
   "execution_count": null,
   "id": "88a11ce5",
   "metadata": {},
   "outputs": [],
   "source": [
    "options = \"--psm 4\"\n",
    "text = pytesseract.image_to_string(\n",
    "    cv.cvtColor(receipt, cv.COLOR_BGR2RGB),\n",
    "    config=options\n",
    ")"
   ]
  },
  {
   "cell_type": "code",
   "execution_count": null,
   "id": "8bd0c428",
   "metadata": {},
   "outputs": [],
   "source": [
    "print(text)"
   ]
  }
 ],
 "metadata": {
  "kernelspec": {
   "display_name": "Python 3 (ipykernel)",
   "language": "python",
   "name": "python3"
  },
  "language_info": {
   "codemirror_mode": {
    "name": "ipython",
    "version": 3
   },
   "file_extension": ".py",
   "mimetype": "text/x-python",
   "name": "python",
   "nbconvert_exporter": "python",
   "pygments_lexer": "ipython3",
   "version": "3.7.8"
  }
 },
 "nbformat": 4,
 "nbformat_minor": 5
}
